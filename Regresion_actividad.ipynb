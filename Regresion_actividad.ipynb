{
 "cells": [
  {
   "cell_type": "markdown",
   "metadata": {},
   "source": [
    "# ACTIVIDAD EN CLASE\n",
    "## *Juan David Ortega Murcia*"
   ]
  },
  {
   "cell_type": "markdown",
   "metadata": {},
   "source": [
    "## LIBRERIAS"
   ]
  },
  {
   "cell_type": "code",
   "execution_count": 114,
   "metadata": {},
   "outputs": [],
   "source": [
    "from sklearn.linear_model import Ridge, ElasticNet, BayesianRidge, HuberRegressor, PassiveAggressiveRegressor, SGDRegressor\n",
    "from sklearn.model_selection import train_test_split\n",
    "from sklearn.ensemble import RandomForestRegressor\n",
    "from sklearn.preprocessing import StandardScaler\n",
    "from sklearn.pipeline import Pipeline\n",
    "from sklearn.metrics import r2_score\n",
    "import matplotlib.pyplot as plt\n",
    "import pandas as pd"
   ]
  },
  {
   "cell_type": "markdown",
   "metadata": {},
   "source": [
    "## CARGAR EL ARCHIVO"
   ]
  },
  {
   "cell_type": "code",
   "execution_count": 115,
   "metadata": {},
   "outputs": [],
   "source": [
    "data = pd.read_csv('housing_in_london_monthly_variables.csv')"
   ]
  },
  {
   "cell_type": "markdown",
   "metadata": {},
   "source": [
    "## VER LOS PRIMEROS REGISTROS"
   ]
  },
  {
   "cell_type": "code",
   "execution_count": 116,
   "metadata": {},
   "outputs": [
    {
     "data": {
      "text/html": [
       "<div>\n",
       "<style scoped>\n",
       "    .dataframe tbody tr th:only-of-type {\n",
       "        vertical-align: middle;\n",
       "    }\n",
       "\n",
       "    .dataframe tbody tr th {\n",
       "        vertical-align: top;\n",
       "    }\n",
       "\n",
       "    .dataframe thead th {\n",
       "        text-align: right;\n",
       "    }\n",
       "</style>\n",
       "<table border=\"1\" class=\"dataframe\">\n",
       "  <thead>\n",
       "    <tr style=\"text-align: right;\">\n",
       "      <th></th>\n",
       "      <th>date</th>\n",
       "      <th>area</th>\n",
       "      <th>average_price</th>\n",
       "      <th>code</th>\n",
       "      <th>houses_sold</th>\n",
       "      <th>no_of_crimes</th>\n",
       "      <th>borough_flag</th>\n",
       "    </tr>\n",
       "  </thead>\n",
       "  <tbody>\n",
       "    <tr>\n",
       "      <th>0</th>\n",
       "      <td>1995-01-01</td>\n",
       "      <td>city of london</td>\n",
       "      <td>91449</td>\n",
       "      <td>E09000001</td>\n",
       "      <td>17.0</td>\n",
       "      <td>NaN</td>\n",
       "      <td>1</td>\n",
       "    </tr>\n",
       "    <tr>\n",
       "      <th>1</th>\n",
       "      <td>1995-02-01</td>\n",
       "      <td>city of london</td>\n",
       "      <td>82203</td>\n",
       "      <td>E09000001</td>\n",
       "      <td>7.0</td>\n",
       "      <td>NaN</td>\n",
       "      <td>1</td>\n",
       "    </tr>\n",
       "    <tr>\n",
       "      <th>2</th>\n",
       "      <td>1995-03-01</td>\n",
       "      <td>city of london</td>\n",
       "      <td>79121</td>\n",
       "      <td>E09000001</td>\n",
       "      <td>14.0</td>\n",
       "      <td>NaN</td>\n",
       "      <td>1</td>\n",
       "    </tr>\n",
       "    <tr>\n",
       "      <th>3</th>\n",
       "      <td>1995-04-01</td>\n",
       "      <td>city of london</td>\n",
       "      <td>77101</td>\n",
       "      <td>E09000001</td>\n",
       "      <td>7.0</td>\n",
       "      <td>NaN</td>\n",
       "      <td>1</td>\n",
       "    </tr>\n",
       "    <tr>\n",
       "      <th>4</th>\n",
       "      <td>1995-05-01</td>\n",
       "      <td>city of london</td>\n",
       "      <td>84409</td>\n",
       "      <td>E09000001</td>\n",
       "      <td>10.0</td>\n",
       "      <td>NaN</td>\n",
       "      <td>1</td>\n",
       "    </tr>\n",
       "  </tbody>\n",
       "</table>\n",
       "</div>"
      ],
      "text/plain": [
       "         date            area  average_price       code  houses_sold  \\\n",
       "0  1995-01-01  city of london          91449  E09000001         17.0   \n",
       "1  1995-02-01  city of london          82203  E09000001          7.0   \n",
       "2  1995-03-01  city of london          79121  E09000001         14.0   \n",
       "3  1995-04-01  city of london          77101  E09000001          7.0   \n",
       "4  1995-05-01  city of london          84409  E09000001         10.0   \n",
       "\n",
       "   no_of_crimes  borough_flag  \n",
       "0           NaN             1  \n",
       "1           NaN             1  \n",
       "2           NaN             1  \n",
       "3           NaN             1  \n",
       "4           NaN             1  "
      ]
     },
     "execution_count": 116,
     "metadata": {},
     "output_type": "execute_result"
    }
   ],
   "source": [
    "data.head()"
   ]
  },
  {
   "cell_type": "markdown",
   "metadata": {},
   "source": [
    "## VER EL TIPO DE DATO EN CADA COLUMNA"
   ]
  },
  {
   "cell_type": "code",
   "execution_count": 117,
   "metadata": {},
   "outputs": [
    {
     "name": "stdout",
     "output_type": "stream",
     "text": [
      "<class 'pandas.core.frame.DataFrame'>\n",
      "RangeIndex: 13549 entries, 0 to 13548\n",
      "Data columns (total 7 columns):\n",
      " #   Column         Non-Null Count  Dtype  \n",
      "---  ------         --------------  -----  \n",
      " 0   date           13549 non-null  object \n",
      " 1   area           13549 non-null  object \n",
      " 2   average_price  13549 non-null  int64  \n",
      " 3   code           13549 non-null  object \n",
      " 4   houses_sold    13455 non-null  float64\n",
      " 5   no_of_crimes   7439 non-null   float64\n",
      " 6   borough_flag   13549 non-null  int64  \n",
      "dtypes: float64(2), int64(2), object(3)\n",
      "memory usage: 741.1+ KB\n"
     ]
    }
   ],
   "source": [
    "data.info()"
   ]
  },
  {
   "cell_type": "markdown",
   "metadata": {},
   "source": [
    "## ELIMINAR COLUMNAS QUE NO INTERESAN"
   ]
  },
  {
   "cell_type": "code",
   "execution_count": 118,
   "metadata": {},
   "outputs": [],
   "source": [
    "data = data.drop('code', axis=1)\n",
    "data = data.drop('no_of_crimes', axis=1)\n",
    "data = data.drop(data[data['houses_sold'].isna()].index, axis=0).reset_index(drop=True)"
   ]
  },
  {
   "cell_type": "markdown",
   "metadata": {},
   "source": [
    "## AGREGAR COLUMNAS PARA AGRUPAR POR DIA, MES Y AÑO"
   ]
  },
  {
   "cell_type": "code",
   "execution_count": 119,
   "metadata": {},
   "outputs": [],
   "source": [
    "data['date'] = pd.to_datetime(data['date'])\n",
    "data['year'] = data['date'].apply(lambda x: x.year)\n",
    "data['month'] = data['date'].apply(lambda x: x.month)\n",
    "data = data.drop('date', axis=1)"
   ]
  },
  {
   "cell_type": "markdown",
   "metadata": {},
   "source": [
    "## CONVERTIR VARIABLES CATEGORICAS EN VARIABLES FICTICIAS Y AGREGARLAS AL DATAFRAME"
   ]
  },
  {
   "cell_type": "code",
   "execution_count": 120,
   "metadata": {},
   "outputs": [],
   "source": [
    "area = pd.get_dummies(data['area'], prefix='area')\n",
    "data = pd.concat([data, area], axis=1)\n",
    "data = data.drop('area', axis=1)"
   ]
  },
  {
   "cell_type": "markdown",
   "metadata": {},
   "source": [
    "## DEFINIR LAS 'X' (VALORES PARA PREDECIR) Y LAS 'Y' (VALORES A PREDECIR)"
   ]
  },
  {
   "cell_type": "code",
   "execution_count": 121,
   "metadata": {},
   "outputs": [],
   "source": [
    "y = data['average_price']\n",
    "X = data.drop('average_price', axis=1)"
   ]
  },
  {
   "cell_type": "markdown",
   "metadata": {},
   "source": [
    "## SEPARAR LOS DATOS DE ENTRENAMIENTO Y PRUEBA 70/30"
   ]
  },
  {
   "cell_type": "code",
   "execution_count": 122,
   "metadata": {},
   "outputs": [],
   "source": [
    "X_train, X_test, y_train, y_test = train_test_split(X, y, test_size=0.3, shuffle=True, random_state=1)"
   ]
  },
  {
   "cell_type": "markdown",
   "metadata": {},
   "source": [
    "## ESTANDARIZAR CARACTERISTICAS EN X"
   ]
  },
  {
   "cell_type": "code",
   "execution_count": 123,
   "metadata": {},
   "outputs": [],
   "source": [
    "scalar = StandardScaler()\n",
    "scalar.fit(X_train)\n",
    "X_train = pd.DataFrame(scalar.transform(X_train), index=X_train.index, columns=X_train.columns)\n",
    "X_test = pd.DataFrame(scalar.transform(X_test), index=X_test.index, columns=X_test.columns)"
   ]
  },
  {
   "cell_type": "markdown",
   "metadata": {},
   "source": [
    "## VISUALIZAR COMO QUEDAN LOS DATAFRAME DE ENTRENAMIENTO"
   ]
  },
  {
   "cell_type": "code",
   "execution_count": 124,
   "metadata": {},
   "outputs": [
    {
     "data": {
      "text/html": [
       "<div>\n",
       "<style scoped>\n",
       "    .dataframe tbody tr th:only-of-type {\n",
       "        vertical-align: middle;\n",
       "    }\n",
       "\n",
       "    .dataframe tbody tr th {\n",
       "        vertical-align: top;\n",
       "    }\n",
       "\n",
       "    .dataframe thead th {\n",
       "        text-align: right;\n",
       "    }\n",
       "</style>\n",
       "<table border=\"1\" class=\"dataframe\">\n",
       "  <thead>\n",
       "    <tr style=\"text-align: right;\">\n",
       "      <th></th>\n",
       "      <th>houses_sold</th>\n",
       "      <th>borough_flag</th>\n",
       "      <th>year</th>\n",
       "      <th>month</th>\n",
       "      <th>area_barking and dagenham</th>\n",
       "      <th>area_barnet</th>\n",
       "      <th>area_bexley</th>\n",
       "      <th>area_brent</th>\n",
       "      <th>area_bromley</th>\n",
       "      <th>area_camden</th>\n",
       "      <th>...</th>\n",
       "      <th>area_south east</th>\n",
       "      <th>area_south west</th>\n",
       "      <th>area_southwark</th>\n",
       "      <th>area_sutton</th>\n",
       "      <th>area_tower hamlets</th>\n",
       "      <th>area_waltham forest</th>\n",
       "      <th>area_wandsworth</th>\n",
       "      <th>area_west midlands</th>\n",
       "      <th>area_westminster</th>\n",
       "      <th>area_yorks and the humber</th>\n",
       "    </tr>\n",
       "  </thead>\n",
       "  <tbody>\n",
       "    <tr>\n",
       "      <th>10752</th>\n",
       "      <td>-0.005908</td>\n",
       "      <td>-1.657173</td>\n",
       "      <td>1.542734</td>\n",
       "      <td>1.315615</td>\n",
       "      <td>-0.145406</td>\n",
       "      <td>-0.150649</td>\n",
       "      <td>-0.148796</td>\n",
       "      <td>-0.155015</td>\n",
       "      <td>-0.152482</td>\n",
       "      <td>-0.148049</td>\n",
       "      <td>...</td>\n",
       "      <td>-0.148796</td>\n",
       "      <td>-0.156801</td>\n",
       "      <td>-0.152482</td>\n",
       "      <td>-0.148423</td>\n",
       "      <td>-0.146165</td>\n",
       "      <td>-0.148049</td>\n",
       "      <td>-0.152846</td>\n",
       "      <td>-0.152117</td>\n",
       "      <td>-0.152482</td>\n",
       "      <td>-0.151385</td>\n",
       "    </tr>\n",
       "    <tr>\n",
       "      <th>10236</th>\n",
       "      <td>0.222400</td>\n",
       "      <td>-1.657173</td>\n",
       "      <td>-0.963307</td>\n",
       "      <td>1.024950</td>\n",
       "      <td>-0.145406</td>\n",
       "      <td>-0.150649</td>\n",
       "      <td>-0.148796</td>\n",
       "      <td>-0.155015</td>\n",
       "      <td>-0.152482</td>\n",
       "      <td>-0.148049</td>\n",
       "      <td>...</td>\n",
       "      <td>-0.148796</td>\n",
       "      <td>-0.156801</td>\n",
       "      <td>-0.152482</td>\n",
       "      <td>-0.148423</td>\n",
       "      <td>-0.146165</td>\n",
       "      <td>-0.148049</td>\n",
       "      <td>-0.152846</td>\n",
       "      <td>-0.152117</td>\n",
       "      <td>-0.152482</td>\n",
       "      <td>-0.151385</td>\n",
       "    </tr>\n",
       "    <tr>\n",
       "      <th>4512</th>\n",
       "      <td>-0.298115</td>\n",
       "      <td>0.603437</td>\n",
       "      <td>-1.380980</td>\n",
       "      <td>-1.300369</td>\n",
       "      <td>-0.145406</td>\n",
       "      <td>-0.150649</td>\n",
       "      <td>-0.148796</td>\n",
       "      <td>-0.155015</td>\n",
       "      <td>-0.152482</td>\n",
       "      <td>-0.148049</td>\n",
       "      <td>...</td>\n",
       "      <td>-0.148796</td>\n",
       "      <td>-0.156801</td>\n",
       "      <td>-0.152482</td>\n",
       "      <td>-0.148423</td>\n",
       "      <td>-0.146165</td>\n",
       "      <td>-0.148049</td>\n",
       "      <td>-0.152846</td>\n",
       "      <td>-0.152117</td>\n",
       "      <td>-0.152482</td>\n",
       "      <td>-0.151385</td>\n",
       "    </tr>\n",
       "    <tr>\n",
       "      <th>9208</th>\n",
       "      <td>-0.293663</td>\n",
       "      <td>0.603437</td>\n",
       "      <td>0.985836</td>\n",
       "      <td>1.024950</td>\n",
       "      <td>-0.145406</td>\n",
       "      <td>-0.150649</td>\n",
       "      <td>-0.148796</td>\n",
       "      <td>-0.155015</td>\n",
       "      <td>-0.152482</td>\n",
       "      <td>-0.148049</td>\n",
       "      <td>...</td>\n",
       "      <td>-0.148796</td>\n",
       "      <td>-0.156801</td>\n",
       "      <td>-0.152482</td>\n",
       "      <td>-0.148423</td>\n",
       "      <td>-0.146165</td>\n",
       "      <td>6.754536</td>\n",
       "      <td>-0.152846</td>\n",
       "      <td>-0.152117</td>\n",
       "      <td>-0.152482</td>\n",
       "      <td>-0.151385</td>\n",
       "    </tr>\n",
       "    <tr>\n",
       "      <th>2672</th>\n",
       "      <td>-0.303063</td>\n",
       "      <td>0.603437</td>\n",
       "      <td>1.542734</td>\n",
       "      <td>-0.428374</td>\n",
       "      <td>-0.145406</td>\n",
       "      <td>-0.150649</td>\n",
       "      <td>-0.148796</td>\n",
       "      <td>-0.155015</td>\n",
       "      <td>-0.152482</td>\n",
       "      <td>-0.148049</td>\n",
       "      <td>...</td>\n",
       "      <td>-0.148796</td>\n",
       "      <td>-0.156801</td>\n",
       "      <td>-0.152482</td>\n",
       "      <td>-0.148423</td>\n",
       "      <td>-0.146165</td>\n",
       "      <td>-0.148049</td>\n",
       "      <td>-0.152846</td>\n",
       "      <td>-0.152117</td>\n",
       "      <td>-0.152482</td>\n",
       "      <td>-0.151385</td>\n",
       "    </tr>\n",
       "    <tr>\n",
       "      <th>...</th>\n",
       "      <td>...</td>\n",
       "      <td>...</td>\n",
       "      <td>...</td>\n",
       "      <td>...</td>\n",
       "      <td>...</td>\n",
       "      <td>...</td>\n",
       "      <td>...</td>\n",
       "      <td>...</td>\n",
       "      <td>...</td>\n",
       "      <td>...</td>\n",
       "      <td>...</td>\n",
       "      <td>...</td>\n",
       "      <td>...</td>\n",
       "      <td>...</td>\n",
       "      <td>...</td>\n",
       "      <td>...</td>\n",
       "      <td>...</td>\n",
       "      <td>...</td>\n",
       "      <td>...</td>\n",
       "      <td>...</td>\n",
       "      <td>...</td>\n",
       "    </tr>\n",
       "    <tr>\n",
       "      <th>905</th>\n",
       "      <td>-0.298033</td>\n",
       "      <td>0.603437</td>\n",
       "      <td>-1.659429</td>\n",
       "      <td>0.734285</td>\n",
       "      <td>-0.145406</td>\n",
       "      <td>-0.150649</td>\n",
       "      <td>6.720615</td>\n",
       "      <td>-0.155015</td>\n",
       "      <td>-0.152482</td>\n",
       "      <td>-0.148049</td>\n",
       "      <td>...</td>\n",
       "      <td>-0.148796</td>\n",
       "      <td>-0.156801</td>\n",
       "      <td>-0.152482</td>\n",
       "      <td>-0.148423</td>\n",
       "      <td>-0.146165</td>\n",
       "      <td>-0.148049</td>\n",
       "      <td>-0.152846</td>\n",
       "      <td>-0.152117</td>\n",
       "      <td>-0.152482</td>\n",
       "      <td>-0.151385</td>\n",
       "    </tr>\n",
       "    <tr>\n",
       "      <th>5192</th>\n",
       "      <td>-0.281790</td>\n",
       "      <td>0.603437</td>\n",
       "      <td>-0.545633</td>\n",
       "      <td>1.606280</td>\n",
       "      <td>-0.145406</td>\n",
       "      <td>-0.150649</td>\n",
       "      <td>-0.148796</td>\n",
       "      <td>-0.155015</td>\n",
       "      <td>-0.152482</td>\n",
       "      <td>-0.148049</td>\n",
       "      <td>...</td>\n",
       "      <td>-0.148796</td>\n",
       "      <td>-0.156801</td>\n",
       "      <td>-0.152482</td>\n",
       "      <td>-0.148423</td>\n",
       "      <td>-0.146165</td>\n",
       "      <td>-0.148049</td>\n",
       "      <td>-0.152846</td>\n",
       "      <td>-0.152117</td>\n",
       "      <td>-0.152482</td>\n",
       "      <td>-0.151385</td>\n",
       "    </tr>\n",
       "    <tr>\n",
       "      <th>12172</th>\n",
       "      <td>0.323815</td>\n",
       "      <td>-1.657173</td>\n",
       "      <td>0.707387</td>\n",
       "      <td>0.443620</td>\n",
       "      <td>-0.145406</td>\n",
       "      <td>-0.150649</td>\n",
       "      <td>-0.148796</td>\n",
       "      <td>-0.155015</td>\n",
       "      <td>-0.152482</td>\n",
       "      <td>-0.148049</td>\n",
       "      <td>...</td>\n",
       "      <td>-0.148796</td>\n",
       "      <td>-0.156801</td>\n",
       "      <td>-0.152482</td>\n",
       "      <td>-0.148423</td>\n",
       "      <td>-0.146165</td>\n",
       "      <td>-0.148049</td>\n",
       "      <td>-0.152846</td>\n",
       "      <td>-0.152117</td>\n",
       "      <td>-0.152482</td>\n",
       "      <td>-0.151385</td>\n",
       "    </tr>\n",
       "    <tr>\n",
       "      <th>235</th>\n",
       "      <td>-0.318976</td>\n",
       "      <td>0.603437</td>\n",
       "      <td>0.985836</td>\n",
       "      <td>0.443620</td>\n",
       "      <td>-0.145406</td>\n",
       "      <td>-0.150649</td>\n",
       "      <td>-0.148796</td>\n",
       "      <td>-0.155015</td>\n",
       "      <td>-0.152482</td>\n",
       "      <td>-0.148049</td>\n",
       "      <td>...</td>\n",
       "      <td>-0.148796</td>\n",
       "      <td>-0.156801</td>\n",
       "      <td>-0.152482</td>\n",
       "      <td>-0.148423</td>\n",
       "      <td>-0.146165</td>\n",
       "      <td>-0.148049</td>\n",
       "      <td>-0.152846</td>\n",
       "      <td>-0.152117</td>\n",
       "      <td>-0.152482</td>\n",
       "      <td>-0.151385</td>\n",
       "    </tr>\n",
       "    <tr>\n",
       "      <th>13349</th>\n",
       "      <td>2.803044</td>\n",
       "      <td>-1.657173</td>\n",
       "      <td>0.568162</td>\n",
       "      <td>-1.300369</td>\n",
       "      <td>-0.145406</td>\n",
       "      <td>-0.150649</td>\n",
       "      <td>-0.148796</td>\n",
       "      <td>-0.155015</td>\n",
       "      <td>-0.152482</td>\n",
       "      <td>-0.148049</td>\n",
       "      <td>...</td>\n",
       "      <td>-0.148796</td>\n",
       "      <td>-0.156801</td>\n",
       "      <td>-0.152482</td>\n",
       "      <td>-0.148423</td>\n",
       "      <td>-0.146165</td>\n",
       "      <td>-0.148049</td>\n",
       "      <td>-0.152846</td>\n",
       "      <td>-0.152117</td>\n",
       "      <td>-0.152482</td>\n",
       "      <td>-0.151385</td>\n",
       "    </tr>\n",
       "  </tbody>\n",
       "</table>\n",
       "<p>9418 rows × 49 columns</p>\n",
       "</div>"
      ],
      "text/plain": [
       "       houses_sold  borough_flag      year     month  \\\n",
       "10752    -0.005908     -1.657173  1.542734  1.315615   \n",
       "10236     0.222400     -1.657173 -0.963307  1.024950   \n",
       "4512     -0.298115      0.603437 -1.380980 -1.300369   \n",
       "9208     -0.293663      0.603437  0.985836  1.024950   \n",
       "2672     -0.303063      0.603437  1.542734 -0.428374   \n",
       "...            ...           ...       ...       ...   \n",
       "905      -0.298033      0.603437 -1.659429  0.734285   \n",
       "5192     -0.281790      0.603437 -0.545633  1.606280   \n",
       "12172     0.323815     -1.657173  0.707387  0.443620   \n",
       "235      -0.318976      0.603437  0.985836  0.443620   \n",
       "13349     2.803044     -1.657173  0.568162 -1.300369   \n",
       "\n",
       "       area_barking and dagenham  area_barnet  area_bexley  area_brent  \\\n",
       "10752                  -0.145406    -0.150649    -0.148796   -0.155015   \n",
       "10236                  -0.145406    -0.150649    -0.148796   -0.155015   \n",
       "4512                   -0.145406    -0.150649    -0.148796   -0.155015   \n",
       "9208                   -0.145406    -0.150649    -0.148796   -0.155015   \n",
       "2672                   -0.145406    -0.150649    -0.148796   -0.155015   \n",
       "...                          ...          ...          ...         ...   \n",
       "905                    -0.145406    -0.150649     6.720615   -0.155015   \n",
       "5192                   -0.145406    -0.150649    -0.148796   -0.155015   \n",
       "12172                  -0.145406    -0.150649    -0.148796   -0.155015   \n",
       "235                    -0.145406    -0.150649    -0.148796   -0.155015   \n",
       "13349                  -0.145406    -0.150649    -0.148796   -0.155015   \n",
       "\n",
       "       area_bromley  area_camden  ...  area_south east  area_south west  \\\n",
       "10752     -0.152482    -0.148049  ...        -0.148796        -0.156801   \n",
       "10236     -0.152482    -0.148049  ...        -0.148796        -0.156801   \n",
       "4512      -0.152482    -0.148049  ...        -0.148796        -0.156801   \n",
       "9208      -0.152482    -0.148049  ...        -0.148796        -0.156801   \n",
       "2672      -0.152482    -0.148049  ...        -0.148796        -0.156801   \n",
       "...             ...          ...  ...              ...              ...   \n",
       "905       -0.152482    -0.148049  ...        -0.148796        -0.156801   \n",
       "5192      -0.152482    -0.148049  ...        -0.148796        -0.156801   \n",
       "12172     -0.152482    -0.148049  ...        -0.148796        -0.156801   \n",
       "235       -0.152482    -0.148049  ...        -0.148796        -0.156801   \n",
       "13349     -0.152482    -0.148049  ...        -0.148796        -0.156801   \n",
       "\n",
       "       area_southwark  area_sutton  area_tower hamlets  area_waltham forest  \\\n",
       "10752       -0.152482    -0.148423           -0.146165            -0.148049   \n",
       "10236       -0.152482    -0.148423           -0.146165            -0.148049   \n",
       "4512        -0.152482    -0.148423           -0.146165            -0.148049   \n",
       "9208        -0.152482    -0.148423           -0.146165             6.754536   \n",
       "2672        -0.152482    -0.148423           -0.146165            -0.148049   \n",
       "...               ...          ...                 ...                  ...   \n",
       "905         -0.152482    -0.148423           -0.146165            -0.148049   \n",
       "5192        -0.152482    -0.148423           -0.146165            -0.148049   \n",
       "12172       -0.152482    -0.148423           -0.146165            -0.148049   \n",
       "235         -0.152482    -0.148423           -0.146165            -0.148049   \n",
       "13349       -0.152482    -0.148423           -0.146165            -0.148049   \n",
       "\n",
       "       area_wandsworth  area_west midlands  area_westminster  \\\n",
       "10752        -0.152846           -0.152117         -0.152482   \n",
       "10236        -0.152846           -0.152117         -0.152482   \n",
       "4512         -0.152846           -0.152117         -0.152482   \n",
       "9208         -0.152846           -0.152117         -0.152482   \n",
       "2672         -0.152846           -0.152117         -0.152482   \n",
       "...                ...                 ...               ...   \n",
       "905          -0.152846           -0.152117         -0.152482   \n",
       "5192         -0.152846           -0.152117         -0.152482   \n",
       "12172        -0.152846           -0.152117         -0.152482   \n",
       "235          -0.152846           -0.152117         -0.152482   \n",
       "13349        -0.152846           -0.152117         -0.152482   \n",
       "\n",
       "       area_yorks and the humber  \n",
       "10752                  -0.151385  \n",
       "10236                  -0.151385  \n",
       "4512                   -0.151385  \n",
       "9208                   -0.151385  \n",
       "2672                   -0.151385  \n",
       "...                          ...  \n",
       "905                    -0.151385  \n",
       "5192                   -0.151385  \n",
       "12172                  -0.151385  \n",
       "235                    -0.151385  \n",
       "13349                  -0.151385  \n",
       "\n",
       "[9418 rows x 49 columns]"
      ]
     },
     "execution_count": 124,
     "metadata": {},
     "output_type": "execute_result"
    }
   ],
   "source": [
    "X_train"
   ]
  },
  {
   "cell_type": "code",
   "execution_count": 125,
   "metadata": {},
   "outputs": [
    {
     "data": {
      "text/plain": [
       "10752    128885\n",
       "10236    137190\n",
       "4512      73211\n",
       "9208     342013\n",
       "2672     473140\n",
       "          ...  \n",
       "905       64510\n",
       "5192     203931\n",
       "12172    196204\n",
       "235      761544\n",
       "13349    173811\n",
       "Name: average_price, Length: 9418, dtype: int64"
      ]
     },
     "execution_count": 125,
     "metadata": {},
     "output_type": "execute_result"
    }
   ],
   "source": [
    "y_train"
   ]
  },
  {
   "cell_type": "markdown",
   "metadata": {},
   "source": [
    "## DICCIONARIO DE MODELOS"
   ]
  },
  {
   "cell_type": "code",
   "execution_count": 126,
   "metadata": {},
   "outputs": [],
   "source": [
    "models = {\n",
    "    \"Ridge\": Ridge(),\n",
    "    \"ElasticNet\": ElasticNet(),\n",
    "    \"BayesianRidge\": BayesianRidge(),\n",
    "    \"HuberRegressor\": HuberRegressor(),\n",
    "    \"PassiveAggressiveRegressor\": PassiveAggressiveRegressor(),\n",
    "    \"SGDRegressor\": SGDRegressor(),\n",
    "    \"RandomForestRegressor\": RandomForestRegressor()\n",
    "    \n",
    "}\n"
   ]
  },
  {
   "cell_type": "markdown",
   "metadata": {},
   "source": [
    "## ENTRENAMIENTO DE MODELOS Y ALMACENAMIENTO DE RESULTADOS"
   ]
  },
  {
   "cell_type": "code",
   "execution_count": 127,
   "metadata": {},
   "outputs": [],
   "source": [
    "model_results = {}\n",
    "for model_name, model in models.items():\n",
    "    reg_pipeline = Pipeline([(\"model\", model)])\n",
    "    reg_pipeline.fit(X_train, y_train)\n",
    "    model_results[model_name] = reg_pipeline"
   ]
  },
  {
   "cell_type": "markdown",
   "metadata": {},
   "source": [
    "## EVALUACION DE MODELO EN CONJUNTO DE PRUEBA Y ALMACENAMIENTO DE PUNTAJES R²"
   ]
  },
  {
   "cell_type": "code",
   "execution_count": 128,
   "metadata": {},
   "outputs": [
    {
     "name": "stdout",
     "output_type": "stream",
     "text": [
      "Ridge R^2: 0.8482\n",
      "ElasticNet R^2: 0.7635\n",
      "BayesianRidge R^2: 0.8482\n",
      "HuberRegressor R^2: 0.8344\n",
      "PassiveAggressiveRegressor R^2: 0.8269\n",
      "SGDRegressor R^2: 0.8483\n",
      "RandomForestRegressor R^2: 0.9959\n"
     ]
    }
   ],
   "source": [
    "test_scores = {}\n",
    "for model_name, model in model_results.items():\n",
    "    y_pred = model.predict(X_test)\n",
    "    test_scores[model_name] = r2_score(y_test, y_pred)\n",
    "    print(model_name + \" R^2: {:.4f}\".format(model.score(X_test, y_test)))"
   ]
  },
  {
   "cell_type": "markdown",
   "metadata": {},
   "source": [
    "## VISUALIZACION DE PUNTAJES R²"
   ]
  },
  {
   "cell_type": "code",
   "execution_count": 129,
   "metadata": {},
   "outputs": [
    {
     "data": {
      "image/png": "[encoded data removed]",
      "text/plain": [
       "<Figure size 1800x600 with 1 Axes>"
      ]
     },
     "metadata": {},
     "output_type": "display_data"
    }
   ],
   "source": [
    "plt.figure(figsize=(18, 6))\n",
    "bars = plt.bar(test_scores.keys(), test_scores.values())\n",
    "for bar in bars:\n",
    "    yval = bar.get_height()\n",
    "    plt.text(bar.get_x() + bar.get_width()/2, yval, round(yval, 3), ha='center')\n",
    "plt.ylabel('$R^2$')\n",
    "plt.title('Model Comparison')\n",
    "plt.grid()\n",
    "plt.show()"
   ]
  }
 ],
 "metadata": {
  "kernelspec": {
   "display_name": "Python 3",
   "language": "python",
   "name": "python3"
  },
  "language_info": {
   "codemirror_mode": {
    "name": "ipython",
    "version": 3
   },
   "file_extension": ".py",
   "mimetype": "text/x-python",
   "name": "python",
   "nbconvert_exporter": "python",
   "pygments_lexer": "ipython3",
   "version": "3.11.9"
  }
 },
 "nbformat": 4,
 "nbformat_minor": 2
}
