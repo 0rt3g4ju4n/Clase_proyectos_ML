{
 "cells": [
  {
   "cell_type": "code",
   "execution_count": 283,
   "metadata": {},
   "outputs": [],
   "source": [
    "import pandas as pd\n",
    "import seaborn as sns\n",
    "import matplotlib.pyplot as plt\n",
    "from sklearn.pipeline import Pipeline\n",
    "from sklearn.impute import SimpleImputer\n",
    "from sklearn.preprocessing import StandardScaler\n",
    "from sklearn.ensemble import RandomForestRegressor\n",
    "from sklearn.model_selection import train_test_split\n",
    "from sklearn.linear_model import Ridge, BayesianRidge, HuberRegressor, SGDRegressor, LinearRegression\n",
    "from sklearn.metrics import r2_score"
   ]
  },
  {
   "cell_type": "code",
   "execution_count": 284,
   "metadata": {},
   "outputs": [],
   "source": [
    "ruta = 'media_data.xlsx'\n",
    "df = pd.read_excel(ruta)"
   ]
  },
  {
   "cell_type": "code",
   "execution_count": 285,
   "metadata": {},
   "outputs": [
    {
     "data": {
      "text/html": [
       "<div>\n",
       "<style scoped>\n",
       "    .dataframe tbody tr th:only-of-type {\n",
       "        vertical-align: middle;\n",
       "    }\n",
       "\n",
       "    .dataframe tbody tr th {\n",
       "        vertical-align: top;\n",
       "    }\n",
       "\n",
       "    .dataframe thead th {\n",
       "        text-align: right;\n",
       "    }\n",
       "</style>\n",
       "<table border=\"1\" class=\"dataframe\">\n",
       "  <thead>\n",
       "    <tr style=\"text-align: right;\">\n",
       "      <th></th>\n",
       "      <th>Date</th>\n",
       "      <th>session_source</th>\n",
       "      <th>channel</th>\n",
       "      <th>full_campaign_name</th>\n",
       "      <th>campaign</th>\n",
       "      <th>cost</th>\n",
       "      <th>impressions</th>\n",
       "      <th>clicks</th>\n",
       "      <th>video_100_platform</th>\n",
       "      <th>revenue_GA4</th>\n",
       "      <th>sessions_GA4</th>\n",
       "      <th>transactions_GA4</th>\n",
       "      <th>ROAS_GA4</th>\n",
       "    </tr>\n",
       "  </thead>\n",
       "  <tbody>\n",
       "    <tr>\n",
       "      <th>0</th>\n",
       "      <td>2023-11-01</td>\n",
       "      <td>google ads</td>\n",
       "      <td>Pmax</td>\n",
       "      <td>Agencia-2023_LATAM_Cliente_LATAMformance_Alway...</td>\n",
       "      <td>Always On</td>\n",
       "      <td>142.627381</td>\n",
       "      <td>117505</td>\n",
       "      <td>2991</td>\n",
       "      <td>0.0</td>\n",
       "      <td>2411.515230</td>\n",
       "      <td>2330.0</td>\n",
       "      <td>53.0</td>\n",
       "      <td>16.907800</td>\n",
       "    </tr>\n",
       "    <tr>\n",
       "      <th>1</th>\n",
       "      <td>2023-11-01</td>\n",
       "      <td>google ads</td>\n",
       "      <td>Pmax</td>\n",
       "      <td>Agencia-2023_LATAM_Cliente_LATAMformance_Alway...</td>\n",
       "      <td>Always On</td>\n",
       "      <td>113.861826</td>\n",
       "      <td>25326</td>\n",
       "      <td>725</td>\n",
       "      <td>0.0</td>\n",
       "      <td>10112.215398</td>\n",
       "      <td>2890.0</td>\n",
       "      <td>122.0</td>\n",
       "      <td>88.811288</td>\n",
       "    </tr>\n",
       "    <tr>\n",
       "      <th>2</th>\n",
       "      <td>2023-11-01</td>\n",
       "      <td>google ads</td>\n",
       "      <td>Search</td>\n",
       "      <td>Agencia-2023_LATAM_Cliente_LATAMformance_Alway...</td>\n",
       "      <td>Always On</td>\n",
       "      <td>26.100671</td>\n",
       "      <td>1919</td>\n",
       "      <td>1084</td>\n",
       "      <td>0.0</td>\n",
       "      <td>343.408085</td>\n",
       "      <td>770.0</td>\n",
       "      <td>7.0</td>\n",
       "      <td>13.157059</td>\n",
       "    </tr>\n",
       "    <tr>\n",
       "      <th>3</th>\n",
       "      <td>2023-11-01</td>\n",
       "      <td>google ads</td>\n",
       "      <td>Search</td>\n",
       "      <td>Agencia-2023_LATAM_Cliente_LATAMformance_Alway...</td>\n",
       "      <td>Always On</td>\n",
       "      <td>47.238423</td>\n",
       "      <td>2818</td>\n",
       "      <td>241</td>\n",
       "      <td>0.0</td>\n",
       "      <td>71.241820</td>\n",
       "      <td>217.0</td>\n",
       "      <td>2.0</td>\n",
       "      <td>1.508133</td>\n",
       "    </tr>\n",
       "    <tr>\n",
       "      <th>4</th>\n",
       "      <td>2023-11-01</td>\n",
       "      <td>google ads</td>\n",
       "      <td>Search</td>\n",
       "      <td>Agencia-2023_LATAM_Cliente_LATAMformance_Alway...</td>\n",
       "      <td>Always On</td>\n",
       "      <td>87.349721</td>\n",
       "      <td>9496</td>\n",
       "      <td>729</td>\n",
       "      <td>0.0</td>\n",
       "      <td>273.563777</td>\n",
       "      <td>564.0</td>\n",
       "      <td>3.0</td>\n",
       "      <td>3.131822</td>\n",
       "    </tr>\n",
       "  </tbody>\n",
       "</table>\n",
       "</div>"
      ],
      "text/plain": [
       "        Date session_source channel  \\\n",
       "0 2023-11-01     google ads    Pmax   \n",
       "1 2023-11-01     google ads    Pmax   \n",
       "2 2023-11-01     google ads  Search   \n",
       "3 2023-11-01     google ads  Search   \n",
       "4 2023-11-01     google ads  Search   \n",
       "\n",
       "                                  full_campaign_name   campaign        cost  \\\n",
       "0  Agencia-2023_LATAM_Cliente_LATAMformance_Alway...  Always On  142.627381   \n",
       "1  Agencia-2023_LATAM_Cliente_LATAMformance_Alway...  Always On  113.861826   \n",
       "2  Agencia-2023_LATAM_Cliente_LATAMformance_Alway...  Always On   26.100671   \n",
       "3  Agencia-2023_LATAM_Cliente_LATAMformance_Alway...  Always On   47.238423   \n",
       "4  Agencia-2023_LATAM_Cliente_LATAMformance_Alway...  Always On   87.349721   \n",
       "\n",
       "   impressions  clicks  video_100_platform   revenue_GA4  sessions_GA4  \\\n",
       "0       117505    2991                 0.0   2411.515230        2330.0   \n",
       "1        25326     725                 0.0  10112.215398        2890.0   \n",
       "2         1919    1084                 0.0    343.408085         770.0   \n",
       "3         2818     241                 0.0     71.241820         217.0   \n",
       "4         9496     729                 0.0    273.563777         564.0   \n",
       "\n",
       "   transactions_GA4   ROAS_GA4  \n",
       "0              53.0  16.907800  \n",
       "1             122.0  88.811288  \n",
       "2               7.0  13.157059  \n",
       "3               2.0   1.508133  \n",
       "4               3.0   3.131822  "
      ]
     },
     "execution_count": 285,
     "metadata": {},
     "output_type": "execute_result"
    }
   ],
   "source": [
    "df.head()"
   ]
  },
  {
   "cell_type": "code",
   "execution_count": 286,
   "metadata": {},
   "outputs": [
    {
     "name": "stdout",
     "output_type": "stream",
     "text": [
      "<class 'pandas.core.frame.DataFrame'>\n",
      "RangeIndex: 13939 entries, 0 to 13938\n",
      "Data columns (total 13 columns):\n",
      " #   Column              Non-Null Count  Dtype         \n",
      "---  ------              --------------  -----         \n",
      " 0   Date                13939 non-null  datetime64[ns]\n",
      " 1   session_source      13939 non-null  object        \n",
      " 2   channel             13939 non-null  object        \n",
      " 3   full_campaign_name  13939 non-null  object        \n",
      " 4   campaign            13939 non-null  object        \n",
      " 5   cost                13939 non-null  float64       \n",
      " 6   impressions         13939 non-null  int64         \n",
      " 7   clicks              13939 non-null  int64         \n",
      " 8   video_100_platform  13749 non-null  float64       \n",
      " 9   revenue_GA4         9258 non-null   float64       \n",
      " 10  sessions_GA4        9258 non-null   float64       \n",
      " 11  transactions_GA4    9258 non-null   float64       \n",
      " 12  ROAS_GA4            9258 non-null   float64       \n",
      "dtypes: datetime64[ns](1), float64(6), int64(2), object(4)\n",
      "memory usage: 1.4+ MB\n"
     ]
    }
   ],
   "source": [
    "df.info()"
   ]
  },
  {
   "cell_type": "code",
   "execution_count": 287,
   "metadata": {},
   "outputs": [
    {
     "name": "stdout",
     "output_type": "stream",
     "text": [
      "<class 'pandas.core.frame.DataFrame'>\n",
      "Index: 9258 entries, 0 to 13935\n",
      "Data columns (total 13 columns):\n",
      " #   Column              Non-Null Count  Dtype         \n",
      "---  ------              --------------  -----         \n",
      " 0   Date                9258 non-null   datetime64[ns]\n",
      " 1   session_source      9258 non-null   object        \n",
      " 2   channel             9258 non-null   object        \n",
      " 3   full_campaign_name  9258 non-null   object        \n",
      " 4   campaign            9258 non-null   object        \n",
      " 5   cost                9258 non-null   float64       \n",
      " 6   impressions         9258 non-null   int64         \n",
      " 7   clicks              9258 non-null   int64         \n",
      " 8   video_100_platform  9258 non-null   float64       \n",
      " 9   revenue_GA4         9258 non-null   float64       \n",
      " 10  sessions_GA4        9258 non-null   float64       \n",
      " 11  transactions_GA4    9258 non-null   float64       \n",
      " 12  ROAS_GA4            9258 non-null   float64       \n",
      "dtypes: datetime64[ns](1), float64(6), int64(2), object(4)\n",
      "memory usage: 1012.6+ KB\n"
     ]
    }
   ],
   "source": [
    "df_limpia = df.dropna(subset=['revenue_GA4'])\n",
    "df_limpia.info()"
   ]
  },
  {
   "cell_type": "code",
   "execution_count": 288,
   "metadata": {},
   "outputs": [
    {
     "name": "stderr",
     "output_type": "stream",
     "text": [
      "C:\\Users\\juano\\AppData\\Local\\Temp\\ipykernel_3736\\2801054515.py:2: SettingWithCopyWarning: \n",
      "A value is trying to be set on a copy of a slice from a DataFrame\n",
      "\n",
      "See the caveats in the documentation: https://pandas.pydata.org/pandas-docs/stable/user_guide/indexing.html#returning-a-view-versus-a-copy\n",
      "  df_limpia.drop(indice_maximo, inplace=True)\n"
     ]
    }
   ],
   "source": [
    "indice_maximo = df_limpia[\"ROAS_GA4\"].idxmax()\n",
    "df_limpia.drop(indice_maximo, inplace=True)\n",
    "df_limpia = df_limpia.drop('Date', axis=1)\n",
    "df_limpia = df_limpia.drop('full_campaign_name', axis=1)"
   ]
  },
  {
   "cell_type": "code",
   "execution_count": 289,
   "metadata": {},
   "outputs": [
    {
     "name": "stdout",
     "output_type": "stream",
     "text": [
      "<class 'pandas.core.frame.DataFrame'>\n",
      "Index: 9257 entries, 0 to 13935\n",
      "Data columns (total 11 columns):\n",
      " #   Column              Non-Null Count  Dtype  \n",
      "---  ------              --------------  -----  \n",
      " 0   session_source      9257 non-null   object \n",
      " 1   channel             9257 non-null   object \n",
      " 2   campaign            9257 non-null   object \n",
      " 3   cost                9257 non-null   float64\n",
      " 4   impressions         9257 non-null   int64  \n",
      " 5   clicks              9257 non-null   int64  \n",
      " 6   video_100_platform  9257 non-null   float64\n",
      " 7   revenue_GA4         9257 non-null   float64\n",
      " 8   sessions_GA4        9257 non-null   float64\n",
      " 9   transactions_GA4    9257 non-null   float64\n",
      " 10  ROAS_GA4            9257 non-null   float64\n",
      "dtypes: float64(6), int64(2), object(3)\n",
      "memory usage: 867.8+ KB\n"
     ]
    }
   ],
   "source": [
    "df_limpia.info()"
   ]
  },
  {
   "cell_type": "code",
   "execution_count": 290,
   "metadata": {},
   "outputs": [],
   "source": [
    "data_encoded = pd.get_dummies(df_limpia, columns=['campaign', 'channel', 'session_source'])"
   ]
  },
  {
   "cell_type": "code",
   "execution_count": 291,
   "metadata": {},
   "outputs": [
    {
     "name": "stdout",
     "output_type": "stream",
     "text": [
      "<class 'pandas.core.frame.DataFrame'>\n",
      "Index: 9257 entries, 0 to 13935\n",
      "Data columns (total 26 columns):\n",
      " #   Column                     Non-Null Count  Dtype  \n",
      "---  ------                     --------------  -----  \n",
      " 0   cost                       9257 non-null   float64\n",
      " 1   impressions                9257 non-null   int64  \n",
      " 2   clicks                     9257 non-null   int64  \n",
      " 3   video_100_platform         9257 non-null   float64\n",
      " 4   revenue_GA4                9257 non-null   float64\n",
      " 5   sessions_GA4               9257 non-null   float64\n",
      " 6   transactions_GA4           9257 non-null   float64\n",
      " 7   ROAS_GA4                   9257 non-null   float64\n",
      " 8   campaign_Always On         9257 non-null   bool   \n",
      " 9   campaign_Buenfin           9257 non-null   bool   \n",
      " 10  campaign_E-Commerce        9257 non-null   bool   \n",
      " 11  campaign_Hotsale           9257 non-null   bool   \n",
      " 12  campaign_Liveshopping      9257 non-null   bool   \n",
      " 13  channel_App                9257 non-null   bool   \n",
      " 14  channel_Demand-Gen         9257 non-null   bool   \n",
      " 15  channel_Discovery          9257 non-null   bool   \n",
      " 16  channel_Display            9257 non-null   bool   \n",
      " 17  channel_Pmax               9257 non-null   bool   \n",
      " 18  channel_Search             9257 non-null   bool   \n",
      " 19  channel_Shopping           9257 non-null   bool   \n",
      " 20  channel_Social             9257 non-null   bool   \n",
      " 21  channel_YouTube            9257 non-null   bool   \n",
      " 22  channel_video              9257 non-null   bool   \n",
      " 23  session_source_google ads  9257 non-null   bool   \n",
      " 24  session_source_meta        9257 non-null   bool   \n",
      " 25  session_source_tiktok      9257 non-null   bool   \n",
      "dtypes: bool(18), float64(6), int64(2)\n",
      "memory usage: 813.6 KB\n"
     ]
    }
   ],
   "source": [
    "data_encoded.info()"
   ]
  },
  {
   "cell_type": "code",
   "execution_count": 292,
   "metadata": {},
   "outputs": [],
   "source": [
    "y = data_encoded['ROAS_GA4']\n",
    "X = data_encoded.drop('ROAS_GA4', axis=1)"
   ]
  },
  {
   "cell_type": "code",
   "execution_count": 293,
   "metadata": {},
   "outputs": [],
   "source": [
    "X_train, X_test, y_train, y_test = train_test_split(X, y, test_size=0.2, shuffle=True, random_state=1)"
   ]
  },
  {
   "cell_type": "code",
   "execution_count": 294,
   "metadata": {},
   "outputs": [],
   "source": [
    "scalar = StandardScaler()\n",
    "scalar.fit(X_train)\n",
    "X_train = pd.DataFrame(scalar.transform(X_train), index=X_train.index, columns=X_train.columns)\n",
    "X_test = pd.DataFrame(scalar.transform(X_test), index=X_test.index, columns=X_test.columns)"
   ]
  },
  {
   "cell_type": "code",
   "execution_count": 295,
   "metadata": {},
   "outputs": [],
   "source": [
    "models = {\n",
    "    \"Ridge\": Ridge(),\n",
    "    \"BayesianRidge\": BayesianRidge(),\n",
    "    \"HuberRegressor\": HuberRegressor(),\n",
    "    \"SGDRegressor\": SGDRegressor(),\n",
    "    \"RandomForestRegressor\": RandomForestRegressor(),\n",
    "    \"LinealRegression\": LinearRegression()\n",
    "}"
   ]
  },
  {
   "cell_type": "code",
   "execution_count": 296,
   "metadata": {},
   "outputs": [],
   "source": [
    "model_results = {}\n",
    "for model_name, model in models.items():\n",
    "    reg_pipeline = Pipeline([\n",
    "        (\"scalar\", StandardScaler()),\n",
    "        (\"numerical_imputer\", SimpleImputer(strategy='mean')),\n",
    "        (\"model\", model)])\n",
    "    reg_pipeline.fit(X_train, y_train)\n",
    "    model_results[model_name] = reg_pipeline"
   ]
  },
  {
   "cell_type": "code",
   "execution_count": 297,
   "metadata": {},
   "outputs": [
    {
     "data": {
      "text/html": [
       "<div>\n",
       "<style scoped>\n",
       "    .dataframe tbody tr th:only-of-type {\n",
       "        vertical-align: middle;\n",
       "    }\n",
       "\n",
       "    .dataframe tbody tr th {\n",
       "        vertical-align: top;\n",
       "    }\n",
       "\n",
       "    .dataframe thead th {\n",
       "        text-align: right;\n",
       "    }\n",
       "</style>\n",
       "<table border=\"1\" class=\"dataframe\">\n",
       "  <thead>\n",
       "    <tr style=\"text-align: right;\">\n",
       "      <th></th>\n",
       "      <th>Puntaje R^2</th>\n",
       "    </tr>\n",
       "    <tr>\n",
       "      <th>Modelo</th>\n",
       "      <th></th>\n",
       "    </tr>\n",
       "  </thead>\n",
       "  <tbody>\n",
       "    <tr>\n",
       "      <th>Ridge</th>\n",
       "      <td>-0.006405</td>\n",
       "    </tr>\n",
       "    <tr>\n",
       "      <th>BayesianRidge</th>\n",
       "      <td>0.004886</td>\n",
       "    </tr>\n",
       "    <tr>\n",
       "      <th>HuberRegressor</th>\n",
       "      <td>0.000860</td>\n",
       "    </tr>\n",
       "    <tr>\n",
       "      <th>SGDRegressor</th>\n",
       "      <td>-0.098352</td>\n",
       "    </tr>\n",
       "    <tr>\n",
       "      <th>RandomForestRegressor</th>\n",
       "      <td>0.631464</td>\n",
       "    </tr>\n",
       "    <tr>\n",
       "      <th>LinealRegression</th>\n",
       "      <td>-0.007204</td>\n",
       "    </tr>\n",
       "  </tbody>\n",
       "</table>\n",
       "</div>"
      ],
      "text/plain": [
       "                       Puntaje R^2\n",
       "Modelo                            \n",
       "Ridge                    -0.006405\n",
       "BayesianRidge             0.004886\n",
       "HuberRegressor            0.000860\n",
       "SGDRegressor             -0.098352\n",
       "RandomForestRegressor     0.631464\n",
       "LinealRegression         -0.007204"
      ]
     },
     "metadata": {},
     "output_type": "display_data"
    }
   ],
   "source": [
    "test_scores = {}\n",
    "for model_name, model in model_results.items():\n",
    "    y_pred = model.predict(X_test)\n",
    "    test_scores[model_name] = r2_score(y_test, y_pred)\n",
    "    results = pd.DataFrame(list(test_scores.items()), columns=['Modelo', 'Puntaje R^2'])\n",
    "    results.set_index('Modelo', inplace=True)\n",
    "display(results)"
   ]
  },
  {
   "cell_type": "code",
   "execution_count": 298,
   "metadata": {},
   "outputs": [
    {
     "data": {
      "image/png": "[encoded data removed]",
      "text/plain": [
       "<Figure size 1800x600 with 1 Axes>"
      ]
     },
     "metadata": {},
     "output_type": "display_data"
    }
   ],
   "source": [
    "plt.figure(figsize=(18, 6))\n",
    "bars = plt.bar(test_scores.keys(), test_scores.values())\n",
    "for bar in bars:\n",
    "    yval = bar.get_height()\n",
    "    plt.text(bar.get_x() + bar.get_width()/2, yval, round(yval, 3), ha='center')\n",
    "plt.ylabel('$R^2$')\n",
    "plt.title('Model Comparison')\n",
    "plt.grid()\n",
    "plt.show()"
   ]
  }
 ],
 "metadata": {
  "kernelspec": {
   "display_name": "Python 3",
   "language": "python",
   "name": "python3"
  },
  "language_info": {
   "codemirror_mode": {
    "name": "ipython",
    "version": 3
   },
   "file_extension": ".py",
   "mimetype": "text/x-python",
   "name": "python",
   "nbconvert_exporter": "python",
   "pygments_lexer": "ipython3",
   "version": "3.11.9"
  }
 },
 "nbformat": 4,
 "nbformat_minor": 2
}
