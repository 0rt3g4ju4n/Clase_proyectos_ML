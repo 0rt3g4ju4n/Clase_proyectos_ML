{
 "cells": [
  {
   "cell_type": "markdown",
   "metadata": {},
   "source": [
    "### LIBRERIAS"
   ]
  },
  {
   "cell_type": "code",
   "execution_count": 20,
   "metadata": {},
   "outputs": [],
   "source": [
    "import pandas as pd\n",
    "import matplotlib.pyplot as plt"
   ]
  },
  {
   "cell_type": "markdown",
   "metadata": {},
   "source": [
    "# EJERCICIO 1"
   ]
  },
  {
   "cell_type": "markdown",
   "metadata": {},
   "source": [
    "- Carga la base de datos Northwind en un DataFrame de Pandas.\n",
    "- Utiliza la tabla de clientes para calcular el número de clientes por país.\n",
    "- Crea un gráfico de barras que muestre el número de clientes por país.\n",
    "- Ordena los países de manera descendente por el número de clientes.\n",
    "- Agrega títulos, etiquetas de ejes y cualquier otra información relevante al gráfico para que sea fácil de entender."
   ]
  },
  {
   "cell_type": "markdown",
   "metadata": {},
   "source": [
    "## Carga la base de datos Northwind en un DataFrame de Pandas."
   ]
  },
  {
   "cell_type": "code",
   "execution_count": 21,
   "metadata": {},
   "outputs": [],
   "source": [
    "Categories = pd.read_csv('D:\\ESP. MACHINE LEARNING\\Categories.csv')\n",
    "Customers = pd.read_csv('D:\\ESP. MACHINE LEARNING\\Customers.csv')\n",
    "Employees = pd.read_csv('D:\\ESP. MACHINE LEARNING\\Employees.csv')\n",
    "OrderDetails = pd.read_csv('D:\\ESP. MACHINE LEARNING\\OrderDetails.csv')\n",
    "Orders = pd.read_csv('D:\\ESP. MACHINE LEARNING\\Orders.csv')\n",
    "Products = pd.read_csv('D:\\ESP. MACHINE LEARNING\\Products.csv')\n",
    "Shippers = pd.read_csv('D:\\ESP. MACHINE LEARNING\\Shippers.csv')\n",
    "Suppliers = pd.read_csv('D:\\ESP. MACHINE LEARNING\\Suppliers.csv')"
   ]
  },
  {
   "cell_type": "markdown",
   "metadata": {},
   "source": [
    "## Utiliza la tabla de clientes para calcular el numero de clientes por pais"
   ]
  },
  {
   "cell_type": "code",
   "execution_count": 22,
   "metadata": {},
   "outputs": [
    {
     "data": {
      "text/html": [
       "<div>\n",
       "<style scoped>\n",
       "    .dataframe tbody tr th:only-of-type {\n",
       "        vertical-align: middle;\n",
       "    }\n",
       "\n",
       "    .dataframe tbody tr th {\n",
       "        vertical-align: top;\n",
       "    }\n",
       "\n",
       "    .dataframe thead th {\n",
       "        text-align: right;\n",
       "    }\n",
       "</style>\n",
       "<table border=\"1\" class=\"dataframe\">\n",
       "  <thead>\n",
       "    <tr style=\"text-align: right;\">\n",
       "      <th></th>\n",
       "      <th>Country</th>\n",
       "      <th>count</th>\n",
       "    </tr>\n",
       "  </thead>\n",
       "  <tbody>\n",
       "    <tr>\n",
       "      <th>0</th>\n",
       "      <td>USA</td>\n",
       "      <td>13</td>\n",
       "    </tr>\n",
       "    <tr>\n",
       "      <th>1</th>\n",
       "      <td>Germany</td>\n",
       "      <td>11</td>\n",
       "    </tr>\n",
       "    <tr>\n",
       "      <th>2</th>\n",
       "      <td>France</td>\n",
       "      <td>11</td>\n",
       "    </tr>\n",
       "    <tr>\n",
       "      <th>3</th>\n",
       "      <td>Brazil</td>\n",
       "      <td>9</td>\n",
       "    </tr>\n",
       "    <tr>\n",
       "      <th>4</th>\n",
       "      <td>UK</td>\n",
       "      <td>7</td>\n",
       "    </tr>\n",
       "    <tr>\n",
       "      <th>5</th>\n",
       "      <td>Spain</td>\n",
       "      <td>5</td>\n",
       "    </tr>\n",
       "    <tr>\n",
       "      <th>6</th>\n",
       "      <td>Mexico</td>\n",
       "      <td>5</td>\n",
       "    </tr>\n",
       "    <tr>\n",
       "      <th>7</th>\n",
       "      <td>Venezuela</td>\n",
       "      <td>4</td>\n",
       "    </tr>\n",
       "    <tr>\n",
       "      <th>8</th>\n",
       "      <td>Canada</td>\n",
       "      <td>3</td>\n",
       "    </tr>\n",
       "    <tr>\n",
       "      <th>9</th>\n",
       "      <td>Argentina</td>\n",
       "      <td>3</td>\n",
       "    </tr>\n",
       "    <tr>\n",
       "      <th>10</th>\n",
       "      <td>Italy</td>\n",
       "      <td>3</td>\n",
       "    </tr>\n",
       "    <tr>\n",
       "      <th>11</th>\n",
       "      <td>Finland</td>\n",
       "      <td>2</td>\n",
       "    </tr>\n",
       "    <tr>\n",
       "      <th>12</th>\n",
       "      <td>Denmark</td>\n",
       "      <td>2</td>\n",
       "    </tr>\n",
       "    <tr>\n",
       "      <th>13</th>\n",
       "      <td>Belgium</td>\n",
       "      <td>2</td>\n",
       "    </tr>\n",
       "    <tr>\n",
       "      <th>14</th>\n",
       "      <td>Austria</td>\n",
       "      <td>2</td>\n",
       "    </tr>\n",
       "    <tr>\n",
       "      <th>15</th>\n",
       "      <td>Portugal</td>\n",
       "      <td>2</td>\n",
       "    </tr>\n",
       "    <tr>\n",
       "      <th>16</th>\n",
       "      <td>Switzerland</td>\n",
       "      <td>2</td>\n",
       "    </tr>\n",
       "    <tr>\n",
       "      <th>17</th>\n",
       "      <td>Sweden</td>\n",
       "      <td>2</td>\n",
       "    </tr>\n",
       "    <tr>\n",
       "      <th>18</th>\n",
       "      <td>Ireland</td>\n",
       "      <td>1</td>\n",
       "    </tr>\n",
       "    <tr>\n",
       "      <th>19</th>\n",
       "      <td>Norway</td>\n",
       "      <td>1</td>\n",
       "    </tr>\n",
       "    <tr>\n",
       "      <th>20</th>\n",
       "      <td>Poland</td>\n",
       "      <td>1</td>\n",
       "    </tr>\n",
       "  </tbody>\n",
       "</table>\n",
       "</div>"
      ],
      "text/plain": [
       "        Country  count\n",
       "0           USA     13\n",
       "1       Germany     11\n",
       "2        France     11\n",
       "3        Brazil      9\n",
       "4            UK      7\n",
       "5         Spain      5\n",
       "6        Mexico      5\n",
       "7     Venezuela      4\n",
       "8        Canada      3\n",
       "9     Argentina      3\n",
       "10        Italy      3\n",
       "11      Finland      2\n",
       "12      Denmark      2\n",
       "13      Belgium      2\n",
       "14      Austria      2\n",
       "15     Portugal      2\n",
       "16  Switzerland      2\n",
       "17       Sweden      2\n",
       "18      Ireland      1\n",
       "19       Norway      1\n",
       "20       Poland      1"
      ]
     },
     "metadata": {},
     "output_type": "display_data"
    }
   ],
   "source": [
    "cantidad = Customers['Country'].value_counts().reset_index()\n",
    "display(cantidad)"
   ]
  },
  {
   "cell_type": "markdown",
   "metadata": {},
   "source": [
    "## Crea un gráfico de barras que muestre el número de clientes por país."
   ]
  },
  {
   "cell_type": "code",
   "execution_count": 32,
   "metadata": {},
   "outputs": [
    {
     "data": {
      "text/plain": [
       "<BarContainer object of 21 artists>"
      ]
     },
     "execution_count": 32,
     "metadata": {},
     "output_type": "execute_result"
    },
    {
     "data": {
      "image/png": "[encoded data removed]",
      "text/plain": [
       "<Figure size 1900x600 with 1 Axes>"
      ]
     },
     "metadata": {},
     "output_type": "display_data"
    }
   ],
   "source": [
    "barras = cantidad['count']\n",
    "nombres = cantidad['Country']\n",
    "plt.figure(figsize=(19, 6))\n",
    "plt.bar(nombres, barras, width=0.7)"
   ]
  },
  {
   "cell_type": "markdown",
   "metadata": {},
   "source": [
    "## Ordena los países de manera descendente por el número de clientes."
   ]
  },
  {
   "cell_type": "code",
   "execution_count": 38,
   "metadata": {},
   "outputs": [],
   "source": [
    "tabla = cantidad.sort_values(by='count')  "
   ]
  },
  {
   "cell_type": "markdown",
   "metadata": {},
   "source": [
    "## Agrega títulos, etiquetas de ejes y cualquier otra información relevante al gráfico para que sea fácil de entender."
   ]
  },
  {
   "cell_type": "code",
   "execution_count": 39,
   "metadata": {},
   "outputs": [
    {
     "data": {
      "text/plain": [
       "<BarContainer object of 21 artists>"
      ]
     },
     "execution_count": 39,
     "metadata": {},
     "output_type": "execute_result"
    },
    {
     "data": {
      "image/png": "[encoded data removed]",
      "text/plain": [
       "<Figure size 1900x600 with 1 Axes>"
      ]
     },
     "metadata": {},
     "output_type": "display_data"
    }
   ],
   "source": [
    "barras = tabla['count']\n",
    "nombres = tabla['Country']\n",
    "plt.figure(figsize=(19, 6))\n",
    "plt.bar(nombres, barras, width=0.7)"
   ]
  },
  {
   "cell_type": "markdown",
   "metadata": {},
   "source": [
    "# EJERCICIO 2"
   ]
  },
  {
   "cell_type": "markdown",
   "metadata": {},
   "source": [
    "Reto: Análisis de ventas mensuales por categoría de producto\n",
    "\n",
    "1. Carga la base de datos Northwind en un DataFrame de Pandas.\n",
    "2. Utiliza las tablas de pedidos, detalles de pedidos, productos y categorías para calcular el total de ventas mensuales por categoría de producto.\n",
    "3. Crea un gráfico de líneas que muestre la evolución de las ventas mensuales para cada categoría de producto a lo largo del tiempo.\n",
    "4. Agrega un título al gráfico, etiquetas de ejes y una leyenda que explique qué representa cada línea en el gráfico.\n"
   ]
  },
  {
   "cell_type": "markdown",
   "metadata": {},
   "source": [
    "### 1. Carga la base de datos Northwind en un DataFrame de Pandas.\n"
   ]
  },
  {
   "cell_type": "code",
   "execution_count": null,
   "metadata": {},
   "outputs": [],
   "source": [
    "Categories = pd.read_csv('D:\\ESP. MACHINE LEARNING\\Categories.csv')\n",
    "Customers = pd.read_csv('D:\\ESP. MACHINE LEARNING\\Customers.csv')\n",
    "Employees = pd.read_csv('D:\\ESP. MACHINE LEARNING\\Employees.csv')\n",
    "OrderDetails = pd.read_csv('D:\\ESP. MACHINE LEARNING\\OrderDetails.csv')\n",
    "Orders = pd.read_csv('D:\\ESP. MACHINE LEARNING\\Orders.csv')\n",
    "Products = pd.read_csv('D:\\ESP. MACHINE LEARNING\\Products.csv')\n",
    "Shippers = pd.read_csv('D:\\ESP. MACHINE LEARNING\\Shippers.csv')\n",
    "Suppliers = pd.read_csv('D:\\ESP. MACHINE LEARNING\\Suppliers.csv')"
   ]
  },
  {
   "cell_type": "markdown",
   "metadata": {},
   "source": [
    "### 2. Utiliza las tablas de pedidos, detalles de pedidos, productos y categorías para calcular el total de ventas mensuales por categoría de producto.\n"
   ]
  },
  {
   "cell_type": "code",
   "execution_count": null,
   "metadata": {},
   "outputs": [],
   "source": []
  },
  {
   "cell_type": "markdown",
   "metadata": {},
   "source": [
    "### 3. Crea un gráfico de líneas que muestre la evolución de las ventas mensuales para cada categoría de producto a lo largo del tiempo.\n"
   ]
  },
  {
   "cell_type": "markdown",
   "metadata": {},
   "source": [
    "### 4. Agrega un título al gráfico, etiquetas de ejes y una leyenda que explique qué representa cada línea en el gráfico.\n"
   ]
  },
  {
   "cell_type": "code",
   "execution_count": null,
   "metadata": {},
   "outputs": [],
   "source": []
  }
 ],
 "metadata": {
  "kernelspec": {
   "display_name": "Python 3",
   "language": "python",
   "name": "python3"
  },
  "language_info": {
   "codemirror_mode": {
    "name": "ipython",
    "version": 3
   },
   "file_extension": ".py",
   "mimetype": "text/x-python",
   "name": "python",
   "nbconvert_exporter": "python",
   "pygments_lexer": "ipython3",
   "version": "3.11.9"
  }
 },
 "nbformat": 4,
 "nbformat_minor": 2
}
