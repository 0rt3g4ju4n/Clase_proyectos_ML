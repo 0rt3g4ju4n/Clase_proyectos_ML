{
 "cells": [
  {
   "cell_type": "markdown",
   "metadata": {},
   "source": [
    " # CLASE #1"
   ]
  },
  {
   "cell_type": "markdown",
   "metadata": {},
   "source": [
    "Tipos de datos\n",
    "--------------\n",
    "Estruturados\n",
    "\n",
    "|size of house (square feet)| # of bedrooms|price (1000$)|\n",
    "|---------------------------|--------------|-------------|\n",
    "|523|1|115|\n",
    "|645|1|150|\n",
    "|708|2|210|\n",
    "|1034|3|280|\n",
    "|2290|4|355|\n",
    "|2545|4|440|"
   ]
  },
  {
   "cell_type": "markdown",
   "metadata": {},
   "source": [
    "![Datos no relacionales](imagen.jpg)"
   ]
  },
  {
   "cell_type": "code",
   "execution_count": null,
   "metadata": {},
   "outputs": [],
   "source": []
  }
 ],
 "metadata": {
  "language_info": {
   "name": "python"
  }
 },
 "nbformat": 4,
 "nbformat_minor": 2
}
